{
 "cells": [
  {
   "cell_type": "code",
   "execution_count": 0,
   "metadata": {
    "application/vnd.databricks.v1+cell": {
     "cellMetadata": {
      "byteLimit": 2048000,
      "rowLimit": 10000
     },
     "inputWidgets": {},
     "nuid": "5196da57-8748-45b3-9cd5-8da228bf09e3",
     "showTitle": false,
     "tableResultSettingsMap": {},
     "title": ""
    }
   },
   "outputs": [],
   "source": [
    "dbutils.library.restartPython()\n"
   ]
  },
  {
   "cell_type": "code",
   "execution_count": 0,
   "metadata": {
    "application/vnd.databricks.v1+cell": {
     "cellMetadata": {
      "byteLimit": 2048000,
      "rowLimit": 10000
     },
     "inputWidgets": {},
     "nuid": "b33f47c2-80bb-4a03-a2c0-15bdb32e2341",
     "showTitle": false,
     "tableResultSettingsMap": {
      "0": {
       "dataGridStateBlob": "{\"version\":1,\"tableState\":{\"columnPinning\":{\"left\":[\"#row_number#\"],\"right\":[]},\"columnSizing\":{},\"columnVisibility\":{}},\"settings\":{\"columns\":{}},\"syncTimestamp\":1756074136520}",
       "filterBlob": null,
       "queryPlanFiltersBlob": null,
       "tableResultIndex": 0
      }
     },
     "title": ""
    }
   },
   "outputs": [],
   "source": [
    "from src.engagement import  EngagementAnalysisProcessor   \n",
    "\n",
    "\n",
    "data = [\n",
    "        (1, \"2022-01-01 12:00:00\", \"home\",      30),\n",
    "        (1, \"2022-01-01 12:15:00\", \"home\",      20),\n",
    "        (2, \"2022-01-01 12:05:00\", \"dashboard\", 45),\n",
    "        (3, \"2022-01-01 12:25:00\", \"dashboard\", 40),\n",
    "        (3, \"2022-01-01 12:10:00\", \"profile\",   60),\n",
    "        (2, \"2022-01-01 12:20:00\", \"profile\",   30),\n",
    "    ]\n",
    "schema = \"user_id INT, timestamp STRING, page STRING, duration_seconds INT\"\n",
    "df = spark.createDataFrame(data, schema=schema)\n",
    "\n",
    "processor = EngagementAnalysisProcessor(df)\n",
    "\n",
    "display(processor.avg_duration_per_page())"
   ]
  }
 ],
 "metadata": {
  "application/vnd.databricks.v1+notebook": {
   "computePreferences": null,
   "dashboards": [],
   "environmentMetadata": {
    "base_environment": "",
    "environment_version": "3"
   },
   "inputWidgetPreferences": null,
   "language": "python",
   "notebookMetadata": {
    "pythonIndentUnit": 4
   },
   "notebookName": "example notebooks",
   "widgets": {}
  },
  "language_info": {
   "name": "python"
  }
 },
 "nbformat": 4,
 "nbformat_minor": 0
}
