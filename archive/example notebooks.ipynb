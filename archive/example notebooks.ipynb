{
 "cells": [
  {
   "cell_type": "code",
   "execution_count": 0,
   "metadata": {
    "application/vnd.databricks.v1+cell": {
     "cellMetadata": {
      "byteLimit": 2048000,
      "rowLimit": 10000
     },
     "inputWidgets": {},
     "nuid": "5196da57-8748-45b3-9cd5-8da228bf09e3",
     "showTitle": false,
     "tableResultSettingsMap": {},
     "title": ""
    }
   },
   "outputs": [],
   "source": [
    "dbutils.library.restartPython()\n"
   ]
  },
  {
   "cell_type": "code",
   "execution_count": 0,
   "metadata": {
    "application/vnd.databricks.v1+cell": {
     "cellMetadata": {
      "byteLimit": 2048000,
      "rowLimit": 10000
     },
     "inputWidgets": {},
     "nuid": "b33f47c2-80bb-4a03-a2c0-15bdb32e2341",
     "showTitle": false,
     "tableResultSettingsMap": {
      "0": {
       "dataGridStateBlob": "{\"version\":1,\"tableState\":{\"columnPinning\":{\"left\":[\"#row_number#\"],\"right\":[]},\"columnSizing\":{},\"columnVisibility\":{}},\"settings\":{\"columns\":{}},\"syncTimestamp\":1756074136520}",
       "filterBlob": null,
       "queryPlanFiltersBlob": null,
       "tableResultIndex": 0
      }
     },
     "title": ""
    }
   },
   "outputs": [],
   "source": [
    "# from src.engagement import  EngagementAnalysisProcessor   \n",
    "\n",
    "\n",
    "# data = [\n",
    "#         (1, \"2022-01-01 12:00:00\", \"home\",      30),\n",
    "#         (1, \"2022-01-01 12:15:00\", \"home\",      20),\n",
    "#         (2, \"2022-01-01 12:05:00\", \"dashboard\", 45),\n",
    "#         (3, \"2022-01-01 12:25:00\", \"dashboard\", 40),\n",
    "#         (3, \"2022-01-01 12:10:00\", \"profile\",   60),\n",
    "#         (2, \"2022-01-01 12:20:00\", \"profile\",   30),\n",
    "#     ]\n",
    "# schema = \"user_id INT, timestamp STRING, page STRING, duration_seconds INT\"\n",
    "# df = spark.createDataFrame(data, schema=schema)\n",
    "\n",
    "# processor = EngagementAnalysisProcessor(df)\n",
    "\n",
    "# display(processor.avg_duration_per_page())"
   ]
  },
  {
   "cell_type": "code",
   "execution_count": 0,
   "metadata": {
    "application/vnd.databricks.v1+cell": {
     "cellMetadata": {
      "byteLimit": 2048000,
      "rowLimit": 10000
     },
     "inputWidgets": {},
     "nuid": "ae21b808-9fc0-4cb7-8d01-3e2d1f1ae959",
     "showTitle": false,
     "tableResultSettingsMap": {
      "0": {
       "dataGridStateBlob": "{\"version\":1,\"tableState\":{\"columnPinning\":{\"left\":[\"#row_number#\"],\"right\":[]},\"columnSizing\":{},\"columnVisibility\":{}},\"settings\":{\"columns\":{}},\"syncTimestamp\":1756149131093}",
       "filterBlob": null,
       "queryPlanFiltersBlob": null,
       "tableResultIndex": 0
      }
     },
     "title": ""
    }
   },
   "outputs": [],
   "source": [
    "df = spark.read \\\n",
    "        .format(\"csv\") \\\n",
    "        .option(\"header\", \"true\") \\\n",
    "        .load(\"dbfs:/FileStore/gore_csv/user_engagement_invalid.csv\")\n",
    "\n",
    "display(df)       \n"
   ]
  },
  {
   "cell_type": "code",
   "execution_count": 0,
   "metadata": {
    "application/vnd.databricks.v1+cell": {
     "cellMetadata": {
      "byteLimit": 2048000,
      "rowLimit": 10000
     },
     "inputWidgets": {},
     "nuid": "021e6f24-0b84-49c0-82a8-08217bad5191",
     "showTitle": false,
     "tableResultSettingsMap": {},
     "title": ""
    }
   },
   "outputs": [],
   "source": [
    "from tests.test_contract_dq import ContractDQ\n",
    "\n",
    "\n",
    "df = spark.read \\\n",
    "        .format(\"csv\") \\\n",
    "        .option(\"header\", \"true\") \\\n",
    "        .load(\"dbfs:/FileStore/gore_csv/user_engagement_invalid.csv\")\n",
    "\n",
    "# Run ContractDQ tests\n",
    "dq = ContractDQ(df)\n",
    "\n",
    "dq.test_required_not_null_and_ranges_and_domain()\n",
    "dq.test_timestamp_parseable()\n",
    "# display(dq.df_with_dq_flags)\n",
    "dq.log_invalid_records()\n",
    "\n",
    "df_good = dq.get_df_with_valid_rows()\n",
    "display(df_good)\n",
    "\n",
    "\n",
    "\n"
   ]
  },
  {
   "cell_type": "code",
   "execution_count": 0,
   "metadata": {
    "application/vnd.databricks.v1+cell": {
     "cellMetadata": {
      "byteLimit": 2048000,
      "rowLimit": 10000
     },
     "inputWidgets": {},
     "nuid": "23e7bf16-ca58-4bb0-9d72-193d446940df",
     "showTitle": false,
     "tableResultSettingsMap": {
      "0": {
       "dataGridStateBlob": "{\"version\":1,\"tableState\":{\"columnPinning\":{\"left\":[\"#row_number#\"],\"right\":[]},\"columnSizing\":{\"user_id\":90},\"columnVisibility\":{}},\"settings\":{\"columns\":{}},\"syncTimestamp\":1756149206283}",
       "filterBlob": null,
       "queryPlanFiltersBlob": null,
       "tableResultIndex": 0
      }
     },
     "title": ""
    }
   },
   "outputs": [],
   "source": [
    "df_invalid = spark.read \\\n",
    "        .format(\"parquet\") \\\n",
    "        .option(\"header\", \"true\") \\\n",
    "        .load(\"dbfs:/FileStore/gore_logs/20250825_202238\")\n",
    "\n",
    "display(df_invalid)       \n"
   ]
  },
  {
   "cell_type": "code",
   "execution_count": 0,
   "metadata": {
    "application/vnd.databricks.v1+cell": {
     "cellMetadata": {
      "byteLimit": 2048000,
      "rowLimit": 10000
     },
     "inputWidgets": {},
     "nuid": "f950f419-ee67-4876-bf85-adf3c32e62c9",
     "showTitle": false,
     "tableResultSettingsMap": {},
     "title": ""
    }
   },
   "outputs": [],
   "source": [
    "dbutils.fs.rm(\"dbfs:/FileStore/gore_logs/\", True)\n"
   ]
  }
 ],
 "metadata": {
  "application/vnd.databricks.v1+notebook": {
   "computePreferences": null,
   "dashboards": [],
   "environmentMetadata": {
    "base_environment": "",
    "environment_version": "3"
   },
   "inputWidgetPreferences": null,
   "language": "python",
   "notebookMetadata": {
    "pythonIndentUnit": 4
   },
   "notebookName": "example notebooks",
   "widgets": {}
  },
  "language_info": {
   "name": "python"
  }
 },
 "nbformat": 4,
 "nbformat_minor": 0
}
