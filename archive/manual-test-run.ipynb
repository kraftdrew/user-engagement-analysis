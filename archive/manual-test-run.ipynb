{
 "cells": [
  {
   "cell_type": "code",
   "execution_count": 0,
   "metadata": {
    "application/vnd.databricks.v1+cell": {
     "cellMetadata": {
      "byteLimit": 2048000,
      "rowLimit": 10000
     },
     "inputWidgets": {},
     "nuid": "9e2f8112-0ddc-4643-b3e4-09b64519bf56",
     "showTitle": false,
     "tableResultSettingsMap": {},
     "title": ""
    }
   },
   "outputs": [],
   "source": [
    "%pip install -r requirements.txt"
   ]
  },
  {
   "cell_type": "code",
   "execution_count": 0,
   "metadata": {
    "application/vnd.databricks.v1+cell": {
     "cellMetadata": {
      "byteLimit": 2048000,
      "rowLimit": 10000
     },
     "inputWidgets": {},
     "nuid": "59308fe7-6a67-47bd-93c9-153ba6048f7e",
     "showTitle": false,
     "tableResultSettingsMap": {},
     "title": ""
    }
   },
   "outputs": [],
   "source": [
    "dbutils.library.restartPython()\n"
   ]
  },
  {
   "cell_type": "code",
   "execution_count": 0,
   "metadata": {
    "application/vnd.databricks.v1+cell": {
     "cellMetadata": {
      "byteLimit": 2048000,
      "rowLimit": 10000
     },
     "inputWidgets": {},
     "nuid": "1a36b258-ca9d-4848-b38b-50d4cf2aade0",
     "showTitle": false,
     "tableResultSettingsMap": {},
     "title": ""
    }
   },
   "outputs": [],
   "source": [
    "from pathlib import Path\n",
    "import pytest, shutil, os\n",
    "\n",
    "# Find repo root = parent of the current notebook folder\n",
    "repo_root = Path.cwd()  # when running inside /Workspace/.../user-engagement-analysis\n",
    "tests_dir = repo_root / \"tests\"\n",
    "\n",
    "# Copy to tmp (avoids __pycache__ issues on /Workspace)\n",
    "dst_dir = Path(\"/tmp/tests\")\n",
    "if dst_dir.exists():\n",
    "    shutil.rmtree(dst_dir)\n",
    "shutil.copytree(tests_dir, dst_dir)\n",
    "\n",
    "exit_code = pytest.main([\n",
    "    str(dst_dir),\n",
    "    \"-v\", \"-rP\",\n",
    "    \"-o\", \"cache_dir=/tmp/pytest_cache\",\n",
    "    \"-W\", \"ignore:distutils Version classes are deprecated:DeprecationWarning\",\n",
    "    \"-W\", \"ignore::DeprecationWarning:pyspark.sql.pandas.utils\",\n",
    "])\n",
    "print(\"pytest exit code:\", exit_code)\n"
   ]
  },
  {
   "cell_type": "code",
   "execution_count": null,
   "metadata": {},
   "outputs": [],
   "source": [
    "from tests.test_contract_dq import ContractDQ, _valid_df\n",
    "from pyspark.sql import SparkSession\n",
    "\n",
    "# Set up Spark session\n",
    "spark = SparkSession.builder.getOrCreate()\n",
    "\n",
    "# Create a sample DataFrame\n",
    "sample_df = _valid_df(spark)\n",
    "\n",
    "# Run ContractDQ tests\n",
    "dq = ContractDQ(sample_df)\n",
    "dq.test_schema_exact()\n",
    "dq.test_no_extra_columns()\n",
    "dq.test_required_not_null_and_ranges_and_domain()\n",
    "dq.test_timestamp_parseable()\n",
    "\n",
    "# Export invalid rows to DBFS path\n",
    "safe_path = 'dbfs:/FileStore/gore_logs'\n",
    "dq.export_invalid_to_csv(safe_path)\n",
    "print(f\"Exported invalid rows to: {safe_path}\")\n"
   ]
  }
 ],
 "metadata": {
  "application/vnd.databricks.v1+notebook": {
   "computePreferences": null,
   "dashboards": [],
   "environmentMetadata": {
    "base_environment": "",
    "environment_version": "3"
   },
   "inputWidgetPreferences": null,
   "language": "python",
   "notebookMetadata": {
    "pythonIndentUnit": 4
   },
   "notebookName": "manual-test-run",
   "widgets": {}
  },
  "language_info": {
   "name": "python"
  }
 },
 "nbformat": 4,
 "nbformat_minor": 0
}
