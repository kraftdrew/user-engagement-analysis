{
 "cells": [
  {
   "cell_type": "code",
   "execution_count": 0,
   "metadata": {
    "application/vnd.databricks.v1+cell": {
     "cellMetadata": {
      "byteLimit": 2048000,
      "rowLimit": 10000
     },
     "inputWidgets": {},
     "nuid": "9e2f8112-0ddc-4643-b3e4-09b64519bf56",
     "showTitle": false,
     "tableResultSettingsMap": {},
     "title": ""
    }
   },
   "outputs": [],
   "source": [
    "%pip install -r requirements.txt"
   ]
  },
  {
   "cell_type": "code",
   "execution_count": 0,
   "metadata": {
    "application/vnd.databricks.v1+cell": {
     "cellMetadata": {
      "byteLimit": 2048000,
      "rowLimit": 10000
     },
     "inputWidgets": {},
     "nuid": "59308fe7-6a67-47bd-93c9-153ba6048f7e",
     "showTitle": false,
     "tableResultSettingsMap": {},
     "title": ""
    }
   },
   "outputs": [],
   "source": [
    "dbutils.library.restartPython()\n"
   ]
  },
  {
   "cell_type": "code",
   "execution_count": 0,
   "metadata": {
    "application/vnd.databricks.v1+cell": {
     "cellMetadata": {
      "byteLimit": 2048000,
      "rowLimit": 10000
     },
     "inputWidgets": {},
     "nuid": "1a36b258-ca9d-4848-b38b-50d4cf2aade0",
     "showTitle": false,
     "tableResultSettingsMap": {},
     "title": ""
    }
   },
   "outputs": [],
   "source": [
    "from pathlib import Path\n",
    "import pytest, shutil, os\n",
    "\n",
    "# Find repo root = parent of the current notebook folder\n",
    "repo_root = Path.cwd()  # when running inside /Workspace/.../user-engagement-analysis\n",
    "tests_dir = repo_root / \"tests\"\n",
    "\n",
    "# Copy to tmp (avoids __pycache__ issues on /Workspace)\n",
    "dst_dir = Path(\"/tmp/tests\")\n",
    "if dst_dir.exists():\n",
    "    shutil.rmtree(dst_dir)\n",
    "shutil.copytree(tests_dir, dst_dir)\n",
    "\n",
    "exit_code = pytest.main([\n",
    "    str(dst_dir),\n",
    "    \"-v\", \"-rP\",\n",
    "    \"-o\", \"cache_dir=/tmp/pytest_cache\",\n",
    "    \"-W\", \"ignore:distutils Version classes are deprecated:DeprecationWarning\",\n",
    "    \"-W\", \"ignore::DeprecationWarning:pyspark.sql.pandas.utils\",\n",
    "])\n",
    "print(\"pytest exit code:\", exit_code)\n"
   ]
  }
 ],
 "metadata": {
  "application/vnd.databricks.v1+notebook": {
   "computePreferences": null,
   "dashboards": [],
   "environmentMetadata": {
    "base_environment": "",
    "environment_version": "3"
   },
   "inputWidgetPreferences": null,
   "language": "python",
   "notebookMetadata": {
    "pythonIndentUnit": 4
   },
   "notebookName": "manual-test-run",
   "widgets": {}
  },
  "language_info": {
   "name": "python"
  }
 },
 "nbformat": 4,
 "nbformat_minor": 0
}
